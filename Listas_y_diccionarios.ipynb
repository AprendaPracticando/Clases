{
  "nbformat": 4,
  "nbformat_minor": 0,
  "metadata": {
    "colab": {
      "provenance": [],
      "authorship_tag": "ABX9TyNC0LKczfsxBDAauaMAey9p",
      "include_colab_link": true
    },
    "kernelspec": {
      "name": "python3",
      "display_name": "Python 3"
    },
    "language_info": {
      "name": "python"
    }
  },
  "cells": [
    {
      "cell_type": "markdown",
      "metadata": {
        "id": "view-in-github",
        "colab_type": "text"
      },
      "source": [
        "<a href=\"https://colab.research.google.com/github/AprendaPracticando/Clases/blob/main/Listas_y_diccionarios.ipynb\" target=\"_parent\"><img src=\"https://colab.research.google.com/assets/colab-badge.svg\" alt=\"Open In Colab\"/></a>"
      ]
    },
    {
      "cell_type": "markdown",
      "source": [
        "# Colecciones\n",
        "\n",
        "Las *colecciones* son series de datos que pueden accederse a través de un mismo identificador.\n",
        "\n",
        "Las principales son *listas* y *diccionarios*."
      ],
      "metadata": {
        "id": "ldW0ljhMGvdf"
      }
    },
    {
      "cell_type": "markdown",
      "source": [
        "## Listas\n",
        "\n",
        "Son colecciones ordenadas, indexadas, mutables.\n",
        "\n",
        "1. Colección: porque es una serie de datos.\n",
        "1. Ordenadas: porque los elementos se guardan en el orden en que se proporcionan.\n",
        "1. Indexadas: porque tienen un índice base cero.\n",
        "1. Mutables: porque sus elementos pueden cambiar, y se pueden agregar o quitar elementos.\n",
        "\n",
        "Se definen como una serie de valores entre square brackets ```[]```.\n"
      ],
      "metadata": {
        "id": "81H4W28jHBT9"
      }
    },
    {
      "cell_type": "code",
      "execution_count": 2,
      "metadata": {
        "id": "Pt1z5uMwGopt"
      },
      "outputs": [],
      "source": [
        "# Esta es una lista, contenedora de fichas de colores.\n",
        "\n",
        "fichas=[]\n"
      ]
    },
    {
      "cell_type": "code",
      "source": [
        "# Agregando fichas.\n",
        "# Se usa el método append()\n",
        "\n",
        "fichas.append('azul')\n",
        "fichas.append('rojo')\n",
        "fichas.append('azul')\n",
        "fichas.append('morado')\n",
        "fichas.append('verde')\n",
        "\n",
        "print(fichas)"
      ],
      "metadata": {
        "colab": {
          "base_uri": "https://localhost:8080/"
        },
        "id": "2R8IKGY5ICXt",
        "outputId": "24bb82e0-932c-4dd9-d0de-491976cc2d8b"
      },
      "execution_count": 3,
      "outputs": [
        {
          "output_type": "stream",
          "name": "stdout",
          "text": [
            "['azul', 'rojo', 'azul', 'morado', 'verde']\n"
          ]
        }
      ]
    },
    {
      "cell_type": "code",
      "source": [
        "# Que sea indexada, quiere decir que cada elemento\n",
        "# tiene un índice que es base cero (que inicia en cero).\n",
        "\n",
        "# ['azul', 'rojo', 'azul', 'morado', 'verde']\n",
        "#    0       1       2       3         4\n",
        "#   -5      -4      -3      -2        -1"
      ],
      "metadata": {
        "id": "exrIsBRjImh3"
      },
      "execution_count": null,
      "outputs": []
    },
    {
      "cell_type": "code",
      "source": [
        "# Cuántos elementos tiene la colección?\n",
        "# len()\n",
        "\n",
        "print(len(fichas))"
      ],
      "metadata": {
        "colab": {
          "base_uri": "https://localhost:8080/"
        },
        "id": "dWafkB10I8Nt",
        "outputId": "80935058-762c-47e4-cbc1-fd5d8f537f18"
      },
      "execution_count": 4,
      "outputs": [
        {
          "output_type": "stream",
          "name": "stdout",
          "text": [
            "5\n"
          ]
        }
      ]
    },
    {
      "cell_type": "code",
      "source": [
        "# Cómo recupero un elemento, usando su índice\n",
        "\n",
        "print(fichas[3])"
      ],
      "metadata": {
        "colab": {
          "base_uri": "https://localhost:8080/"
        },
        "id": "r_jE6j1kJHxU",
        "outputId": "78ac72c4-85a8-4d8c-c013-7cd60e4b5744"
      },
      "execution_count": 5,
      "outputs": [
        {
          "output_type": "stream",
          "name": "stdout",
          "text": [
            "morado\n"
          ]
        }
      ]
    },
    {
      "cell_type": "code",
      "source": [
        "# Uso de slicers: [inicio:fin]\n",
        "# El 'fin' nunca se incluye.\n",
        "\n",
        "# ['azul', 'rojo', 'azul', 'morado', 'verde']\n",
        "#    0       1       2       3         4\n",
        "#   -5      -4      -3      -2        -1\n",
        "\n",
        "print(fichas[1])\n",
        "print(fichas[1:4])\n",
        "print(fichas[3:])\n",
        "print(fichas[:3])\n",
        "print(fichas[-2])"
      ],
      "metadata": {
        "colab": {
          "base_uri": "https://localhost:8080/"
        },
        "id": "AX2z3QRyJT59",
        "outputId": "8add7be5-95a3-4572-e4cd-a09f157e0629"
      },
      "execution_count": 11,
      "outputs": [
        {
          "output_type": "stream",
          "name": "stdout",
          "text": [
            "morado\n"
          ]
        }
      ]
    },
    {
      "cell_type": "code",
      "source": [
        "# Cómo sabemos si un valor está o no en una lista\n",
        "# usamos in\n",
        "\n",
        "print('morado' in fichas)\n",
        "print('naranja' in fichas)"
      ],
      "metadata": {
        "colab": {
          "base_uri": "https://localhost:8080/"
        },
        "id": "kVLw5YefKT5m",
        "outputId": "974dce70-33ef-4815-98db-516e7b45ce6e"
      },
      "execution_count": 13,
      "outputs": [
        {
          "output_type": "stream",
          "name": "stdout",
          "text": [
            "False\n"
          ]
        }
      ]
    },
    {
      "cell_type": "code",
      "source": [
        "# Cómo sabemos cuántas veces está un valor\n",
        "# uso count()\n",
        "\n",
        "print(fichas.count('azul'))\n",
        "print(fichas.count('naranja'))"
      ],
      "metadata": {
        "colab": {
          "base_uri": "https://localhost:8080/"
        },
        "id": "AooBGoPWKkP0",
        "outputId": "8e2e7e35-13af-4e1f-a997-9ac0bf694dfd"
      },
      "execution_count": 15,
      "outputs": [
        {
          "output_type": "stream",
          "name": "stdout",
          "text": [
            "0\n"
          ]
        }
      ]
    },
    {
      "cell_type": "code",
      "source": [
        "# Qué pasa si trato de recuperar un valor con un índice que no existe\n",
        "\n",
        "print(fichas[10])"
      ],
      "metadata": {
        "colab": {
          "base_uri": "https://localhost:8080/",
          "height": 201
        },
        "id": "U22LbXsPK-r1",
        "outputId": "db0a8692-38ae-4a38-c766-eed4a4b68049"
      },
      "execution_count": 16,
      "outputs": [
        {
          "output_type": "error",
          "ename": "IndexError",
          "evalue": "ignored",
          "traceback": [
            "\u001b[0;31m---------------------------------------------------------------------------\u001b[0m",
            "\u001b[0;31mIndexError\u001b[0m                                Traceback (most recent call last)",
            "\u001b[0;32m<ipython-input-16-5a5acc1a5b2c>\u001b[0m in \u001b[0;36m<cell line: 3>\u001b[0;34m()\u001b[0m\n\u001b[1;32m      1\u001b[0m \u001b[0;31m# Qué pasa si trato de recuperar un valor con un índice que no existe\u001b[0m\u001b[0;34m\u001b[0m\u001b[0;34m\u001b[0m\u001b[0m\n\u001b[1;32m      2\u001b[0m \u001b[0;34m\u001b[0m\u001b[0m\n\u001b[0;32m----> 3\u001b[0;31m \u001b[0mprint\u001b[0m\u001b[0;34m(\u001b[0m\u001b[0mfichas\u001b[0m\u001b[0;34m[\u001b[0m\u001b[0;36m10\u001b[0m\u001b[0;34m]\u001b[0m\u001b[0;34m)\u001b[0m\u001b[0;34m\u001b[0m\u001b[0;34m\u001b[0m\u001b[0m\n\u001b[0m",
            "\u001b[0;31mIndexError\u001b[0m: list index out of range"
          ]
        }
      ]
    },
    {
      "cell_type": "code",
      "source": [
        "# Qué pasa si quiero saber el índice en donde se \n",
        "# encuentra un valor\n",
        "# uso index()\n",
        "\n",
        "print(fichas.index('morado'))"
      ],
      "metadata": {
        "colab": {
          "base_uri": "https://localhost:8080/"
        },
        "id": "DhCsuSLULQFM",
        "outputId": "2a809d94-a9d6-4e02-bfbd-3c28e5a74ef5"
      },
      "execution_count": 17,
      "outputs": [
        {
          "output_type": "stream",
          "name": "stdout",
          "text": [
            "3\n"
          ]
        }
      ]
    },
    {
      "cell_type": "code",
      "source": [
        "# Qué pasa si pido el índice de algo que no existe\n",
        "\n",
        "print(fichas.index('naranja'))"
      ],
      "metadata": {
        "colab": {
          "base_uri": "https://localhost:8080/",
          "height": 201
        },
        "id": "NMTfQu4xLg1M",
        "outputId": "8f7416b0-6d42-4f80-defc-51f9a77c24db"
      },
      "execution_count": 18,
      "outputs": [
        {
          "output_type": "error",
          "ename": "ValueError",
          "evalue": "ignored",
          "traceback": [
            "\u001b[0;31m---------------------------------------------------------------------------\u001b[0m",
            "\u001b[0;31mValueError\u001b[0m                                Traceback (most recent call last)",
            "\u001b[0;32m<ipython-input-18-679488ac20f5>\u001b[0m in \u001b[0;36m<cell line: 3>\u001b[0;34m()\u001b[0m\n\u001b[1;32m      1\u001b[0m \u001b[0;31m# Qué pasa si pido el índice de algo que no existe\u001b[0m\u001b[0;34m\u001b[0m\u001b[0;34m\u001b[0m\u001b[0m\n\u001b[1;32m      2\u001b[0m \u001b[0;34m\u001b[0m\u001b[0m\n\u001b[0;32m----> 3\u001b[0;31m \u001b[0mprint\u001b[0m\u001b[0;34m(\u001b[0m\u001b[0mfichas\u001b[0m\u001b[0;34m.\u001b[0m\u001b[0mindex\u001b[0m\u001b[0;34m(\u001b[0m\u001b[0;34m'naranja'\u001b[0m\u001b[0;34m)\u001b[0m\u001b[0;34m)\u001b[0m\u001b[0;34m\u001b[0m\u001b[0;34m\u001b[0m\u001b[0m\n\u001b[0m",
            "\u001b[0;31mValueError\u001b[0m: 'naranja' is not in list"
          ]
        }
      ]
    },
    {
      "cell_type": "code",
      "source": [
        "# Para eliminar un elemento teniendo su índice\n",
        "# uso pop()\n",
        "\n",
        "print(fichas)\n",
        "fichas.pop(2)\n",
        "print(fichas)"
      ],
      "metadata": {
        "colab": {
          "base_uri": "https://localhost:8080/"
        },
        "id": "JI9DxZ8ELMtl",
        "outputId": "cdb56fa7-9232-4084-e3be-690fcf8188fc"
      },
      "execution_count": 19,
      "outputs": [
        {
          "output_type": "stream",
          "name": "stdout",
          "text": [
            "['azul', 'rojo', 'azul', 'morado', 'verde']\n",
            "['azul', 'rojo', 'morado', 'verde']\n"
          ]
        }
      ]
    },
    {
      "cell_type": "code",
      "source": [
        "# Eliminar un elemento teniendo su valor\n",
        "# uso remove()\n",
        "\n",
        "print(fichas)\n",
        "fichas.remove('rojo')\n",
        "print(fichas)"
      ],
      "metadata": {
        "colab": {
          "base_uri": "https://localhost:8080/"
        },
        "id": "oJsehIgZMAh8",
        "outputId": "9d97d21e-1e11-4c12-e313-c33fba767e8b"
      },
      "execution_count": 20,
      "outputs": [
        {
          "output_type": "stream",
          "name": "stdout",
          "text": [
            "['azul', 'rojo', 'morado', 'verde']\n",
            "['azul', 'morado', 'verde']\n"
          ]
        }
      ]
    },
    {
      "cell_type": "code",
      "source": [
        "# Cómo inserto un elemento\n",
        "# usando insert()\n",
        "\n",
        "print(fichas)\n",
        "fichas.insert(2,'naranja')\n",
        "print(fichas)"
      ],
      "metadata": {
        "colab": {
          "base_uri": "https://localhost:8080/"
        },
        "id": "hSFNVmZ3Mh9V",
        "outputId": "51035bd3-e2d0-4f5a-8adc-b1742954fb10"
      },
      "execution_count": 21,
      "outputs": [
        {
          "output_type": "stream",
          "name": "stdout",
          "text": [
            "['azul', 'morado', 'verde']\n",
            "['azul', 'morado', 'naranja', 'verde']\n"
          ]
        }
      ]
    },
    {
      "cell_type": "code",
      "source": [
        "# Cómo ordeno una lista\n",
        "# uso sort()\n",
        "\n",
        "print(fichas)\n",
        "fichas.sort(reverse=True)\n",
        "print(fichas)"
      ],
      "metadata": {
        "colab": {
          "base_uri": "https://localhost:8080/"
        },
        "id": "LF2Hgg-EM2YG",
        "outputId": "a4fcd486-e257-471a-ac23-cac952d5da6b"
      },
      "execution_count": 23,
      "outputs": [
        {
          "output_type": "stream",
          "name": "stdout",
          "text": [
            "['azul', 'morado', 'naranja', 'verde']\n",
            "['verde', 'naranja', 'morado', 'azul']\n"
          ]
        }
      ]
    },
    {
      "cell_type": "code",
      "source": [
        "# Cómo se lee una lista secuencialmente\n",
        "# Se usa for, que va a leer elemento por elemento\n",
        "# a la colección. Cada elemento que lea, lo coloca \n",
        "# en una variable de trabajo (e, por element).\n",
        "# Deja de leer cuando se termina la colección.\n",
        "\n",
        "for e in fichas:\n",
        "  print(e)"
      ],
      "metadata": {
        "colab": {
          "base_uri": "https://localhost:8080/"
        },
        "id": "rt2qpAZpNNeO",
        "outputId": "af35342c-6827-4329-bb27-ff2a93bcf00f"
      },
      "execution_count": 24,
      "outputs": [
        {
          "output_type": "stream",
          "name": "stdout",
          "text": [
            "verde\n",
            "naranja\n",
            "morado\n",
            "azul\n"
          ]
        }
      ]
    },
    {
      "cell_type": "markdown",
      "source": [
        "### Ejercicio\n",
        "\n",
        "Elabora un programa que solicite números enteros, que deberá ir guardando en una lista. Los números enteros deben estar entre 1 y 100. No debe haber números repetidos. Termina de preguntar cuando no se capture nada. Al final, debe imprimir la media, decir cuál fue el máximo, y cuál el mínimo."
      ],
      "metadata": {
        "id": "jPzKXN3eNyzr"
      }
    },
    {
      "cell_type": "code",
      "source": [
        "# Preparo la validación de enteros del 1 al 100\n",
        "import re\n",
        "re_entero=r'^([0-9]{1,3})$'"
      ],
      "metadata": {
        "id": "W2IuguqfNyAr"
      },
      "execution_count": 25,
      "outputs": []
    },
    {
      "cell_type": "code",
      "source": [
        "# Lista para guardar los datos\n",
        "\n",
        "numeros=[]"
      ],
      "metadata": {
        "id": "8AI23PueQXxE"
      },
      "execution_count": 36,
      "outputs": []
    },
    {
      "cell_type": "code",
      "source": [
        "while True:\n",
        "  # Se pregunta el dato\n",
        "  _n=input('Dame un número entero: ')\n",
        "  # Si se omite captura, se sale\n",
        "  if (_n==''):\n",
        "    break\n",
        "  # Validar patrón\n",
        "  if (not bool(re.match(re_entero,_n))):\n",
        "    print('Error. No se cumple el patrón. Intenta de nuevo.')\n",
        "    continue\n",
        "  # Validar rango de valores\n",
        "  n=int(_n)\n",
        "  if (n<1 or n>100):\n",
        "    print('Error. Debe ser del 1 al 100. Intenta de nuevo.')\n",
        "    continue\n",
        "  # Validar que no se repita.\n",
        "  if (n in numeros):\n",
        "    print('Error. Los números no se pueden repetir. Intenta de nuevo.')\n",
        "    continue    \n",
        "  # Si llega aquí, lo capturado es un número entero\n",
        "  # del 1 al 100, por lo tanto es válido.\n",
        "  # Se agrega el número a la lista\n",
        "  numeros.append(n)\n",
        "\n",
        "print(numeros)"
      ],
      "metadata": {
        "colab": {
          "base_uri": "https://localhost:8080/"
        },
        "id": "szBhuUyRPRLa",
        "outputId": "f1dc6cd4-ebb7-440d-94f9-8b309726a892"
      },
      "execution_count": 38,
      "outputs": [
        {
          "output_type": "stream",
          "name": "stdout",
          "text": [
            "Dame un número entero: 10\n",
            "Dame un número entero: 20\n",
            "Dame un número entero: 5\n",
            "Dame un número entero: 40\n",
            "Dame un número entero: 3\n",
            "Dame un número entero: 20\n",
            "Error. Los números no se pueden repetir. Intenta de nuevo.\n",
            "Dame un número entero: 35\n",
            "Dame un número entero: \n",
            "[10, 20, 5, 40, 3, 35]\n"
          ]
        }
      ]
    },
    {
      "cell_type": "code",
      "source": [
        "# Determinar minimo, máximo, y media.\n",
        "\n",
        "minimo=101\n",
        "maximo=0\n",
        "suma=0\n",
        "\n",
        "if (len(numeros)==0):\n",
        "  print('Nada que hacer. La lista está vacía.')\n",
        "else:\n",
        "  for e in numeros:\n",
        "    suma+=e\n",
        "    if e>maximo:\n",
        "      maximo=e\n",
        "    if e<minimo:\n",
        "      minimo=e\n",
        "\n",
        "print('Media:', suma/len(numeros))\n",
        "print('Mínimo:', minimo)\n",
        "print('Máximo:', maximo)"
      ],
      "metadata": {
        "colab": {
          "base_uri": "https://localhost:8080/"
        },
        "id": "wC2vPqN1RKC5",
        "outputId": "c21db45f-5039-43e8-ae4f-80a59550bedb"
      },
      "execution_count": 39,
      "outputs": [
        {
          "output_type": "stream",
          "name": "stdout",
          "text": [
            "Media: 18.833333333333332\n",
            "Mínimo: 3\n",
            "Máximo: 40\n"
          ]
        }
      ]
    }
  ]
}